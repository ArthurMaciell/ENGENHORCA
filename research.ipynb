{
 "cells": [
  {
   "cell_type": "code",
   "execution_count": 44,
   "id": "47de38cf",
   "metadata": {},
   "outputs": [],
   "source": [
    "from pypdf import PdfReader\n",
    "from langchain.text_splitter import RecursiveCharacterTextSplitter\n",
    "from langchain_community.vectorstores import FAISS\n",
    "from langchain_community.embeddings import HuggingFaceEmbeddings\n",
    "from langchain_groq import ChatGroq\n",
    "from langchain_core.prompts import ChatPromptTemplate, MessagesPlaceholder\n",
    "from langchain_core.output_parsers import StrOutputParser\n",
    "from langchain.chains import RetrievalQA\n",
    "from langchain_core.runnables import RunnablePassthrough, RunnableLambda\n",
    "from operator import itemgetter\n",
    "from unstructured.partition.pdf import partition_pdf\n",
    "from unstructured.documents.elements import Table, Image\n",
    "from io import BytesIO\n",
    "import base64\n",
    "from unstructured.documents.elements import (\n",
    "    Table,\n",
    "    Image as USImage,\n",
    "    CompositeElement,\n",
    ")\n",
    "import pytesseract\n",
    "from PIL import Image as PILImage  # evita conflito de nomes\n",
    "import os"
   ]
  },
  {
   "cell_type": "code",
   "execution_count": 2,
   "id": "8ab76be1",
   "metadata": {},
   "outputs": [],
   "source": [
    "def get_pdf_text(pdf):\n",
    "    pieces = []\n",
    "    reader = PdfReader(pdf)\n",
    "    for i, page in enumerate(reader.pages):\n",
    "        text = page.extract_text()\n",
    "        pieces.append(text or '')\n",
    "        print(f'Página {i+1}:')\n",
    "        print(text)\n",
    "    return \"\".join(pieces)"
   ]
  },
  {
   "cell_type": "code",
   "execution_count": 3,
   "id": "ef9ee42a",
   "metadata": {},
   "outputs": [
    {
     "name": "stdout",
     "output_type": "stream",
     "text": [
      "Página 1:\n",
      "Caixas Terminais\n",
      "F6/1/P/6\n",
      "Para filtros de alta eficiência, montagem no \n",
      "teto e montagem em parede\n",
      "®\n",
      "TROX DO BRASIL LTDA.\n",
      "Rua Alvarenga, 2025  \n",
      "05509-005 – São Paulo – SP\n",
      "+55 (11) 3037-3900\n",
      "trox-br@troxgroup.com\n",
      "www.troxbrasil.com.br\n",
      " +55 11 97395 1627\n",
      "\n",
      "Página 2:\n",
      "Índice - Conteúdo - Tipos de produtos\n",
      "Caixa Terminal F631\n",
      "Caixa Terminal F640 \n",
      "(na figura com difusor tipo VDW 676X54)\n",
      "Caixa Terminal F660 \n",
      "(na figura com difusor tipo FD)\n",
      "Caixa Terminal F650\n",
      "(na figura com difusor tipo ADLQ-A)\n",
      "Caixa Terminal F670 \n",
      "(na figura com grelha tipo AT-A)\n",
      "Índice - Conteúdo -Tipos de produtos ........................... 2\n",
      "Caixa Terminal F631 com Filtros de Alta Eficiência para \n",
      "montagem no teto .......................................................... 3\n",
      "Caixa Terminal F650 com Filtros de Alta Eficiência para \n",
      "montagem no teto .......................................................... 4\n",
      "Caixa Terminal F640 com Filtros de Alta Eficiência para \n",
      "montagem no teto .......................................................... 5\n",
      "Caixa Terminal F660 com Filtros de Alta Eficiência para \n",
      "montagem no teto .......................................................... 6\n",
      "Caixa Terminal F670 com Filtros de Alta Eficiência para \n",
      "montagem na parede .................................................... 7\n",
      "2\n",
      "Página 3:\n",
      "100\n",
      "B\n",
      "M\n",
      "O D\n",
      "268\n",
      "8 40\n",
      "A\n",
      "L\n",
      "Caixa Terminal F631 \n",
      "Montagem de teto\n",
      "Para aplicação em condições onde um \n",
      "alto grau de pureza do ar asséptico é \n",
      "necessário. \n",
      "Carcaça com um alto grau de \n",
      "estanqueidade.  \n",
      "Caixa cor Branco RAL9003\n",
      "Com ponto de tomada de PAO.\n",
      "3\n",
      "Tamanho  \n",
      "do filtro\n",
      "Vazão máxima \n",
      "de ar I/s (m3/h)\n",
      "Dimensões do filtro  \n",
      "W x H x D em mm\n",
      "Dimensões da carcaça em mm\n",
      "A B  D L M\n",
      "1 170 (600) 535 x 535 x 78 600 600 248 549 549\n",
      "2 255 (900) 835 x 535 x 78 600 900 313 549 849\n",
      "3 340 (1200) 1135 x 535 x 78 600 1200 348 549 1149\n",
      "4 406 (1445) 1220 x 610 x 78 675 1285 348 624 1234\n",
      "5  212 (745) 610 x 610 x 78 675 675 398 624 624\n",
      " Chapa perfurada\n",
      "0 Sem chapa perfurada\n",
      "L Com chapa perfurada\n",
      " Tomada de PAO\n",
      "P  Com PAO\n",
      " Tamanho do Filtro\n",
      "1  535x535x78mm\n",
      "2  835x835x78mm\n",
      "3  1135x535x78mm\n",
      "4  1220x610x78mm\n",
      "5 610x610x78mm \n",
      " Acabamento da Chapa \n",
      "Perfurada\n",
      "PH2 Pintura a pó hibrido   \n",
      " branco RAL 9003\n",
      "   \n",
      "F631 - L - 0 / P / 5 / PH2\n",
      "Página 4:\n",
      "Caixa Terminal  F650 \n",
      "Montagem de teto\n",
      "Para aplicação em condições \n",
      "onde um alto grau de pureza do ar \n",
      "asséptico é necessário. Disponível \n",
      "em 03 profundidades dependentes \n",
      "do filtro. Carcaça com um alto grau de \n",
      "estanqueidade.\n",
      "Filtros com gaxeta de EPDM ou Selo \n",
      "Gel (Consultar medidas dos filtros com \n",
      "selo Gel)\n",
      "Caixa com ponto para tomada de PAO\n",
      "Caixa cor Branco RAL9003\n",
      "4\n",
      " Tipo:\n",
      "A Difusor ADLQ-A\n",
      "B Difusor ADQ-2\n",
      "C Difusor ADQ-3\n",
      "D Difusor FD\n",
      "L Difusor DP\n",
      "V Difusor VDW\n",
      "R Grelha AR\n",
      " Teste de Vazamento\n",
      "2 Sem Moldura - Com PAO\n",
      " Tamanho do Filtro\n",
      "Ver T abela abaixo\n",
      " Acabamento do Difusor\n",
      "AN0  Anodizado natural;\n",
      "PH2 Pintura a pó hibrido \n",
      " branco RAL 9003;\n",
      "   \n",
      "F650 - A / 2 / E / PH2\n",
      "* Não é possível utilizar difusor FD em \n",
      "caixas com filtro tamanho A.\n",
      "Tamanho  \n",
      "do filtro\n",
      "Faixas \n",
      "de \n",
      "Vazão\n",
      "Modelo\n",
      "Filtro *\n",
      "Dimensões do filtro \n",
      "W x H x D em mm\n",
      "Dimensões de caixa em mm\n",
      "A B E F G M B1 C\n",
      "A 244 MFP 305x305x78 358 328X328 361 196 243 308 352X352 193\n",
      "B 625 MFP 457x457x78 510 480x480 513 272 243 460 504x504 193\n",
      "C 850 MFP 535x535x78 588 558x558 591 311 243 538 582x582 193\n",
      "G 3000 MFC 610x610x292(41) 663 633x633 666 348 457 613 657x657 407\n",
      "E 1179 MFP 610x610x78 663 633x633 666 348 243 613 657x657 193\n",
      "H 3500 MFC 610x610x292(61) 663 633x633 666 348 457 613 657x657 407\n",
      "F 1150 F771/772 610x610x150 663 633x633 666 348 315 613 657x657 265\n",
      "S 2465 MFP 1220x610x78 1273 1243x633 666 348 243 1223 1267x657 193\n",
      "T 2300 F771/772 1220x610x150 1273 1243x633 666 348 315 1223 1267x657 265\n",
      "D 970 MFP 575x575x78 628 598x598 631 311 243 578 622x622 193\n",
      "A seleção dos difusores deve ser feita a partir do catálogo de difusores.\n",
      "Dimensões\n",
      "Pontos de\n",
      "medição de \n",
      "pressão\n",
      "Tipo de filtro:\n",
      "MFP\n",
      "MFC\n",
      "Opção de difusor \n",
      "(D, V)\n",
      "Opção de  difusor \n",
      "em chapa \n",
      "perfurada e \n",
      "grelha\n",
      "(L, R)\n",
      "Opção de difusor \n",
      "(A,B,C)\n",
      "Vmax = 600m3/h)\n",
      "Vmax = 600m3/h)\n",
      "Vmax = 2100m3/h)\n",
      "* Para modelo do filtro - definir classe de filtragem pelo catálogo de filtros\n",
      "Página 5:\n",
      "TAM A B E C G 0D TAM DO FILTRO * F VAZÃO\n",
      "A 352 328 311 193 101\n",
      "123 e 148\n",
      "305 x 305 x 78\n",
      "415\n",
      "244\n",
      "158 e 198 465\n",
      "B 504 480 463 193\n",
      "101\n",
      "148\n",
      "457 x 457 x 78\n",
      "567\n",
      "625158 e 198 617\n",
      "153 248 617\n",
      "G 657 633 616 407 101 248 e 298 610 x 610 x 292 870 3000\n",
      "E 657 633 616 193\n",
      "101 198\n",
      "610 x 610 x 78\n",
      "770\n",
      "1179153 248 775\n",
      "203 298 775\n",
      "H 657 633 616 407 101 348 610 x 610 x 292 (61) 920 3500\n",
      "F 657 633 616 265\n",
      "101\n",
      "198\n",
      "610 x 610 x 150\n",
      "770\n",
      "1150248 820\n",
      "153 298 820\n",
      "C 582 558 541 193\n",
      "101 198\n",
      "535 x 535 x 78\n",
      "695\n",
      "850153 248 700\n",
      "203 298 700\n",
      "D 622 598 581 193\n",
      "101 198\n",
      "575 x 575 x 78\n",
      "735\n",
      "970153 248 740\n",
      "203 298 740\n",
      "Y 582 558 541 265\n",
      "101 198\n",
      "535 x 535 x 150\n",
      "695\n",
      "869153 248 700\n",
      "203 298 700\n",
      "Caixa Terminal  F640\n",
      "Montagem de teto\n",
      "Para aplicação em condições \n",
      "onde um alto grau de pureza do ar \n",
      "asséptico é necessário. Disponível \n",
      "em 03 profundidades dependentes \n",
      "do filtro. Carcaça com um alto grau de \n",
      "estanqueidade.\n",
      "Filtros com gaxeta de EPDM ou Selo \n",
      "Gel (Consultar medidas dos filtros com \n",
      "selo Gel)\n",
      "Caixa com ponto para tomada de PAO\n",
      "Caixa cor Branco RAL9003\n",
      "5\n",
      " Diâmetro do colarinho\n",
      "Opção Ø Colarinho\n",
      "1  123mm\n",
      "3  148mm\n",
      "4  158mm\n",
      "6  198mm\n",
      "8  248mm\n",
      "9  298mm\n",
      "E  348mm\n",
      " Tipo de Difusor\n",
      "A  Difusor ADLQ-A\n",
      "B  Difusor ADQ-2\n",
      "C  Difusor ADQ-3\n",
      "D  Difusor FD\n",
      "L  Difusor DP\n",
      "V  Difusor VDW\n",
      " Teste de Vazamento\n",
      "2 Sem Moldura - Com PAO\n",
      " Tamanho do Filtro \n",
      "Ver tabela abaixo\n",
      " Acabamento do difusor\n",
      "AN0  Anodizado natural;\n",
      "PH2 Pintura a pó hibrido \n",
      " branco RAL 9003;\n",
      "    \n",
      "F640 - 6 - A / 1 / E / PH2\n",
      "Difusor para o tamanho do \n",
      "filtro:\n",
      "Detalhe X\n",
      "J\n",
      "H\n",
      "K\n",
      "V. \n",
      "máx. = 900 m3/h\n",
      "K\n",
      "Tipo de\n",
      "difusor\n",
      "ADLQ-A\n",
      "ADQ-2\n",
      "ADQ-3\n",
      "FD\n",
      "DP (chapa \n",
      "perfurada)\n",
      "VDW\n",
      "Código\n",
      "A\n",
      "B\n",
      "C\n",
      "D\n",
      "L\n",
      "V\n",
      "Dimensões\n",
      "* A seleção dos difusores deve ser feita a \n",
      "partir do catálogo de difusores.\n",
      "A\n",
      "B\n",
      "C\n",
      "D\n",
      "V\n",
      "L\n",
      "600 m3/h\n",
      "600 m3/h\n",
      "600 m3/h\n",
      "2100 m3/h\n",
      "* Não é possível utilizar difusor FD em \n",
      "caixas com filtro tamanho A.\n",
      "* Para modelo do filtro - definir classe de filtragem pelo catálogo de filtros\n",
      "Página 6:\n",
      "Caixa Terminal  F660\n",
      "Montagem de teto\n",
      "Para aplicação em condições \n",
      "onde um alto grau de pureza do ar \n",
      "asséptico é necessário. Disponível \n",
      "em 03 profundidades dependentes \n",
      "do filtro. Carcaça com um alto grau de \n",
      "estanqueidade. \n",
      "Filtros com gaxeta de EPDM ou Selo \n",
      "Gel (Consultar medidas dos filtros \n",
      "com selo Gel)\n",
      "Caixa com ponto para tomada de PAO\n",
      "Caixa cor Branco RAL9003\n",
      "6\n",
      "Tamanho  \n",
      "de filtro Vazão Modelo de \n",
      "Filtro *\n",
      "Dimensões do \n",
      "filtro W x H x D \n",
      "em mm\n",
      "Dimensões da carcaça em mm\n",
      "AxA1 BxB1 ExE1 C ØD\n",
      "A 244 MFP 305 x 305 x 78 352x352 328X328 311x311 193 98 à 198\n",
      "B 625 MFP 457 x 457 x 78 504x504 480x480 463x463 193 148 à 298\n",
      "G 3000 MFC 610x610x292(41) 657x657 633x633 616x616 407 298 à 348\n",
      "E 1179 MFP 610x610x78 657x657 633x633 616x616 193 198 à 298\n",
      "H 3500 MFC 610x610x292(61) 657x657 633x633 616x616 407 298 à 348\n",
      "F 1150 MFP 610x610x150 657x657 633x633 616x616 265 198 à 298\n",
      "I 1700 MFC 305x610x292(35) 352x657 328X633 311x616 407 98 à 248\n",
      "C 850 MFP 535x535x78 582x582 558x558 541x541 193 198 à 298\n",
      "D 970 MFP 575x575x78 622x622 598x598 581x581 193 198 à 298\n",
      "J 700 MFP 305x610x78 352x657 328x633 311x616 193 98 à 248\n",
      "R 2100 MFP 915x610x78 962x657 938x633 921x616 193 198 à 348\n",
      "S 2800 MFP 1220x610x78 1267x657 1243x633 1226x616 193 198 à 348\n",
      " Diâmetro do Colarinho\n",
      "Opção Ø Colarinho\n",
      "0 98mm\n",
      "1 123mm\n",
      "2  138mm\n",
      "3  148mm\n",
      "4  158mm\n",
      "6  198mm\n",
      "8  248mm\n",
      "9  298mm\n",
      "E  348mm\n",
      " Tipo de Difusor \n",
      "A          Difusor ADLQ-A\n",
      "B Difusor ADQ-2\n",
      "C  Difusor ADQ-3\n",
      "D  Difusor FD\n",
      "L  Difusor DP\n",
      "V  Difusor VDW-Q\n",
      " Teste de Vazamento\n",
      "2 Sem Moldura - Com PAO\n",
      " Tamanho do Filtro\n",
      "Ver T abela\n",
      " Acabamento do Difusor\n",
      "AN0  Anodizado natural;\n",
      "PH2 Pintura a pó hibrido \n",
      " branco RAL 9003;\n",
      "    \n",
      "F660 - 6 / A / E1 / E / PH2\n",
      "Dimensões\n",
      "K\n",
      "Detalhe X\n",
      "J\n",
      "H\n",
      "K\n",
      "Difusor para tamanho de filtro:\n",
      "V. \n",
      "máx. = 600 m3/h\n",
      "Tipo de\n",
      "difusor\n",
      "ADLQ-A\n",
      "ADQ-2\n",
      "ADQ-3\n",
      "FD\n",
      "DP (chapa \n",
      "perfurada)\n",
      "VDW\n",
      "Código\n",
      "A\n",
      "B\n",
      "C\n",
      "D\n",
      "L\n",
      "V\n",
      "* A seleção dos difusores deve ser feita a partir do catálogo de difusores.\n",
      "V. \n",
      "máx. = 2100 m3/h\n",
      "V. \n",
      "máx. = 600 m3/h\n",
      "A B C \n",
      "D\n",
      "V. \n",
      "máx. = 600 m3/h\n",
      "V\n",
      "L\n",
      "* Para modelo do filtro - definir classe de filtragem pelo catálogo de filtros\n",
      "Página 7:\n",
      "Caixa Terminal F670\n",
      "Montagem de parede\n",
      "Para aplicação em condições \n",
      "onde um alto grau de pureza do ar \n",
      "asséptico é necessário. Disponível \n",
      "em 03 profundidades dependentes \n",
      "do filtro. Carcaça com um alto grau de \n",
      "estanqueidade.\n",
      "Filtros com gaxeta de EPDM\n",
      "Caixa com ponto para tomada de PAO\n",
      "Caixa cor Branco RAL9003\n",
      "Dimensões\n",
      "Grelha1 A-T AR-A VAT-A \n",
      "Código A R V\n",
      "1) Descreva o tipo através do código de letra acima no pedido de \n",
      "compra.\n",
      "H\n",
      "B H1\n",
      "L\n",
      "Grelha\n",
      "G\n",
      "Fixação para \n",
      "alvenaria\n",
      "Pontos de medição de \n",
      "pressão\n",
      "7\n",
      "Tamanho  \n",
      "do filtro\n",
      "Vazão \n",
      "(m3/h)\n",
      "Dimensões\n",
      "W x H x T \n",
      "em mm\n",
      "Dimensões em mm\n",
      "Grelha B H1L H\n",
      "1 580 305 x 610 x 78 213 645 345 633 328\n",
      "2 650 305 x 610 x 150 285 645 345 633 328\n",
      "3 1750 305 x 610 x 292 427 645 345 633 328\n",
      "4 3000 610 x 610 x 292 427 645 645 633 633\n",
      "5 1179 610 x 610 x 78 213 645 645 633 633\n",
      "6 880 305 x 915 x 78 213 950 345 938 328\n",
      "Sujeito a alterações - Reprodução proibida - TROX Group 10/2023)\n",
      " Tipo de Grelha\n",
      "A Grelha A- T\n",
      "R Grelha AR-A\n",
      "V Grelha VAT -A\n",
      " Teste de Vazamento\n",
      "0  Sem moldura de teste\n",
      " Tamanho do Filtro \n",
      "1 305x610x78mm\n",
      "2 305x610x150mm\n",
      "3  305x610x292mm\n",
      "4  610x610x292mm\n",
      "5  610x610x78mm\n",
      "6  305x915x78mm\n",
      " Acabamento do Grelha\n",
      "AN0  Anodizado natural;\n",
      "PH2 Pintura a pó hibrido \n",
      " branco RAL 9003;\n",
      "   \n",
      "F670 - R / 0 / 4 / PH2\n",
      "* Para modelo do filtro - definir classe de filtragem pelo catálogo de filtros\n"
     ]
    },
    {
     "data": {
      "text/plain": [
       "'Caixas Terminais\\nF6/1/P/6\\nPara filtros de alta eficiência, montagem no \\nteto e montagem em parede\\n®\\nTROX DO BRASIL LTDA.\\nRua Alvarenga, 2025  \\n05509-005 – São Paulo – SP\\n+55 (11) 3037-3900\\ntrox-br@troxgroup.com\\nwww.troxbrasil.com.br\\n\\uf232 +55 11 97395 1627\\nÍndice - Conteúdo - Tipos de produtos\\nCaixa Terminal F631\\nCaixa Terminal F640 \\n(na figura com difusor tipo VDW 676X54)\\nCaixa Terminal F660 \\n(na figura com difusor tipo FD)\\nCaixa Terminal F650\\n(na figura com difusor tipo ADLQ-A)\\nCaixa Terminal F670 \\n(na figura com grelha tipo AT-A)\\nÍndice - Conteúdo -Tipos de produtos ........................... 2\\nCaixa Terminal F631 com Filtros de Alta Eficiência para \\nmontagem no teto .......................................................... 3\\nCaixa Terminal F650 com Filtros de Alta Eficiência para \\nmontagem no teto .......................................................... 4\\nCaixa Terminal F640 com Filtros de Alta Eficiência para \\nmontagem no teto .......................................................... 5\\nCaixa Terminal F660 com Filtros de Alta Eficiência para \\nmontagem no teto .......................................................... 6\\nCaixa Terminal F670 com Filtros de Alta Eficiência para \\nmontagem na parede .................................................... 7\\n2100\\nB\\nM\\nO D\\n268\\n8 40\\nA\\nL\\nCaixa Terminal F631 \\nMontagem de teto\\nPara aplicação em condições onde um \\nalto grau de pureza do ar asséptico é \\nnecessário. \\nCarcaça com um alto grau de \\nestanqueidade.  \\nCaixa cor Branco RAL9003\\nCom ponto de tomada de PAO.\\n3\\nTamanho  \\ndo filtro\\nVazão máxima \\nde ar I/s (m3/h)\\nDimensões do filtro  \\nW x H x D em mm\\nDimensões da carcaça em mm\\nA B  D L M\\n1 170 (600) 535 x 535 x 78 600 600 248 549 549\\n2 255 (900) 835 x 535 x 78 600 900 313 549 849\\n3 340 (1200) 1135 x 535 x 78 600 1200 348 549 1149\\n4 406 (1445) 1220 x 610 x 78 675 1285 348 624 1234\\n5  212 (745) 610 x 610 x 78 675 675 398 624 624\\n\\ue214 Chapa perfurada\\n0 Sem chapa perfurada\\nL Com chapa perfurada\\n\\ue216 Tomada de PAO\\nP  Com PAO\\n\\ue217 Tamanho do Filtro\\n1  535x535x78mm\\n2  835x835x78mm\\n3  1135x535x78mm\\n4  1220x610x78mm\\n5 610x610x78mm \\n\\ue217 Acabamento da Chapa \\nPerfurada\\nPH2 Pintura a pó hibrido   \\n branco RAL 9003\\n\\ue214 \\ue216 \\ue217 \\ue218\\nF631 - L - 0 / P / 5 / PH2Caixa Terminal  F650 \\nMontagem de teto\\nPara aplicação em condições \\nonde um alto grau de pureza do ar \\nasséptico é necessário. Disponível \\nem 03 profundidades dependentes \\ndo filtro. Carcaça com um alto grau de \\nestanqueidade.\\nFiltros com gaxeta de EPDM ou Selo \\nGel (Consultar medidas dos filtros com \\nselo Gel)\\nCaixa com ponto para tomada de PAO\\nCaixa cor Branco RAL9003\\n4\\n\\ue214 Tipo:\\nA Difusor ADLQ-A\\nB Difusor ADQ-2\\nC Difusor ADQ-3\\nD Difusor FD\\nL Difusor DP\\nV Difusor VDW\\nR Grelha AR\\n\\ue215 Teste de Vazamento\\n2 Sem Moldura - Com PAO\\n\\ue216 Tamanho do Filtro\\nVer T abela abaixo\\n\\ue217 Acabamento do Difusor\\nAN0  Anodizado natural;\\nPH2 Pintura a pó hibrido \\n branco RAL 9003;\\n\\ue214 \\ue215 \\ue216 \\ue217\\nF650 - A / 2 / E / PH2\\n* Não é possível utilizar difusor FD em \\ncaixas com filtro tamanho A.\\nTamanho  \\ndo filtro\\nFaixas \\nde \\nVazão\\nModelo\\nFiltro *\\nDimensões do filtro \\nW x H x D em mm\\nDimensões de caixa em mm\\nA B E F G M B1 C\\nA 244 MFP 305x305x78 358 328X328 361 196 243 308 352X352 193\\nB 625 MFP 457x457x78 510 480x480 513 272 243 460 504x504 193\\nC 850 MFP 535x535x78 588 558x558 591 311 243 538 582x582 193\\nG 3000 MFC 610x610x292(41) 663 633x633 666 348 457 613 657x657 407\\nE 1179 MFP 610x610x78 663 633x633 666 348 243 613 657x657 193\\nH 3500 MFC 610x610x292(61) 663 633x633 666 348 457 613 657x657 407\\nF 1150 F771/772 610x610x150 663 633x633 666 348 315 613 657x657 265\\nS 2465 MFP 1220x610x78 1273 1243x633 666 348 243 1223 1267x657 193\\nT 2300 F771/772 1220x610x150 1273 1243x633 666 348 315 1223 1267x657 265\\nD 970 MFP 575x575x78 628 598x598 631 311 243 578 622x622 193\\nA seleção dos difusores deve ser feita a partir do catálogo de difusores.\\nDimensões\\nPontos de\\nmedição de \\npressão\\nTipo de filtro:\\nMFP\\nMFC\\nOpção de difusor \\n(D, V)\\nOpção de  difusor \\nem chapa \\nperfurada e \\ngrelha\\n(L, R)\\nOpção de difusor \\n(A,B,C)\\nVmax = 600m3/h)\\nVmax = 600m3/h)\\nVmax = 2100m3/h)\\n* Para modelo do filtro - definir classe de filtragem pelo catálogo de filtrosTAM A B E C G 0D TAM DO FILTRO * F VAZÃO\\nA 352 328 311 193 101\\n123 e 148\\n305 x 305 x 78\\n415\\n244\\n158 e 198 465\\nB 504 480 463 193\\n101\\n148\\n457 x 457 x 78\\n567\\n625158 e 198 617\\n153 248 617\\nG 657 633 616 407 101 248 e 298 610 x 610 x 292 870 3000\\nE 657 633 616 193\\n101 198\\n610 x 610 x 78\\n770\\n1179153 248 775\\n203 298 775\\nH 657 633 616 407 101 348 610 x 610 x 292 (61) 920 3500\\nF 657 633 616 265\\n101\\n198\\n610 x 610 x 150\\n770\\n1150248 820\\n153 298 820\\nC 582 558 541 193\\n101 198\\n535 x 535 x 78\\n695\\n850153 248 700\\n203 298 700\\nD 622 598 581 193\\n101 198\\n575 x 575 x 78\\n735\\n970153 248 740\\n203 298 740\\nY 582 558 541 265\\n101 198\\n535 x 535 x 150\\n695\\n869153 248 700\\n203 298 700\\nCaixa Terminal  F640\\nMontagem de teto\\nPara aplicação em condições \\nonde um alto grau de pureza do ar \\nasséptico é necessário. Disponível \\nem 03 profundidades dependentes \\ndo filtro. Carcaça com um alto grau de \\nestanqueidade.\\nFiltros com gaxeta de EPDM ou Selo \\nGel (Consultar medidas dos filtros com \\nselo Gel)\\nCaixa com ponto para tomada de PAO\\nCaixa cor Branco RAL9003\\n5\\n\\ue214 Diâmetro do colarinho\\nOpção Ø Colarinho\\n1  123mm\\n3  148mm\\n4  158mm\\n6  198mm\\n8  248mm\\n9  298mm\\nE  348mm\\n\\ue215 Tipo de Difusor\\nA  Difusor ADLQ-A\\nB  Difusor ADQ-2\\nC  Difusor ADQ-3\\nD  Difusor FD\\nL  Difusor DP\\nV  Difusor VDW\\n\\ue216 Teste de Vazamento\\n2 Sem Moldura - Com PAO\\n\\ue217 Tamanho do Filtro \\nVer tabela abaixo\\n\\ue218 Acabamento do difusor\\nAN0  Anodizado natural;\\nPH2 Pintura a pó hibrido \\n branco RAL 9003;\\n\\ue214 \\ue215 \\ue216 \\ue217 \\ue218\\nF640 - 6 - A / 1 / E / PH2\\nDifusor para o tamanho do \\nfiltro:\\nDetalhe X\\nJ\\nH\\nK\\nV. \\nmáx. = 900 m3/h\\nK\\nTipo de\\ndifusor\\nADLQ-A\\nADQ-2\\nADQ-3\\nFD\\nDP (chapa \\nperfurada)\\nVDW\\nCódigo\\nA\\nB\\nC\\nD\\nL\\nV\\nDimensões\\n* A seleção dos difusores deve ser feita a \\npartir do catálogo de difusores.\\nA\\nB\\nC\\nD\\nV\\nL\\n600 m3/h\\n600 m3/h\\n600 m3/h\\n2100 m3/h\\n* Não é possível utilizar difusor FD em \\ncaixas com filtro tamanho A.\\n* Para modelo do filtro - definir classe de filtragem pelo catálogo de filtrosCaixa Terminal  F660\\nMontagem de teto\\nPara aplicação em condições \\nonde um alto grau de pureza do ar \\nasséptico é necessário. Disponível \\nem 03 profundidades dependentes \\ndo filtro. Carcaça com um alto grau de \\nestanqueidade. \\nFiltros com gaxeta de EPDM ou Selo \\nGel (Consultar medidas dos filtros \\ncom selo Gel)\\nCaixa com ponto para tomada de PAO\\nCaixa cor Branco RAL9003\\n6\\nTamanho  \\nde filtro Vazão Modelo de \\nFiltro *\\nDimensões do \\nfiltro W x H x D \\nem mm\\nDimensões da carcaça em mm\\nAxA1 BxB1 ExE1 C ØD\\nA 244 MFP 305 x 305 x 78 352x352 328X328 311x311 193 98 à 198\\nB 625 MFP 457 x 457 x 78 504x504 480x480 463x463 193 148 à 298\\nG 3000 MFC 610x610x292(41) 657x657 633x633 616x616 407 298 à 348\\nE 1179 MFP 610x610x78 657x657 633x633 616x616 193 198 à 298\\nH 3500 MFC 610x610x292(61) 657x657 633x633 616x616 407 298 à 348\\nF 1150 MFP 610x610x150 657x657 633x633 616x616 265 198 à 298\\nI 1700 MFC 305x610x292(35) 352x657 328X633 311x616 407 98 à 248\\nC 850 MFP 535x535x78 582x582 558x558 541x541 193 198 à 298\\nD 970 MFP 575x575x78 622x622 598x598 581x581 193 198 à 298\\nJ 700 MFP 305x610x78 352x657 328x633 311x616 193 98 à 248\\nR 2100 MFP 915x610x78 962x657 938x633 921x616 193 198 à 348\\nS 2800 MFP 1220x610x78 1267x657 1243x633 1226x616 193 198 à 348\\n\\ue214 Diâmetro do Colarinho\\nOpção Ø Colarinho\\n0 98mm\\n1 123mm\\n2  138mm\\n3  148mm\\n4  158mm\\n6  198mm\\n8  248mm\\n9  298mm\\nE  348mm\\n\\ue215 Tipo de Difusor \\nA          Difusor ADLQ-A\\nB Difusor ADQ-2\\nC  Difusor ADQ-3\\nD  Difusor FD\\nL  Difusor DP\\nV  Difusor VDW-Q\\n\\ue216 Teste de Vazamento\\n2 Sem Moldura - Com PAO\\n\\ue217 Tamanho do Filtro\\nVer T abela\\n\\ue218 Acabamento do Difusor\\nAN0  Anodizado natural;\\nPH2 Pintura a pó hibrido \\n branco RAL 9003;\\n\\ue214 \\ue215 \\ue216 \\ue217 \\ue218\\nF660 - 6 / A / E1 / E / PH2\\nDimensões\\nK\\nDetalhe X\\nJ\\nH\\nK\\nDifusor para tamanho de filtro:\\nV. \\nmáx. = 600 m3/h\\nTipo de\\ndifusor\\nADLQ-A\\nADQ-2\\nADQ-3\\nFD\\nDP (chapa \\nperfurada)\\nVDW\\nCódigo\\nA\\nB\\nC\\nD\\nL\\nV\\n* A seleção dos difusores deve ser feita a partir do catálogo de difusores.\\nV. \\nmáx. = 2100 m3/h\\nV. \\nmáx. = 600 m3/h\\nA B C \\nD\\nV. \\nmáx. = 600 m3/h\\nV\\nL\\n* Para modelo do filtro - definir classe de filtragem pelo catálogo de filtrosCaixa Terminal F670\\nMontagem de parede\\nPara aplicação em condições \\nonde um alto grau de pureza do ar \\nasséptico é necessário. Disponível \\nem 03 profundidades dependentes \\ndo filtro. Carcaça com um alto grau de \\nestanqueidade.\\nFiltros com gaxeta de EPDM\\nCaixa com ponto para tomada de PAO\\nCaixa cor Branco RAL9003\\nDimensões\\nGrelha1 A-T AR-A VAT-A \\nCódigo A R V\\n1) Descreva o tipo através do código de letra acima no pedido de \\ncompra.\\nH\\nB H1\\nL\\nGrelha\\nG\\nFixação para \\nalvenaria\\nPontos de medição de \\npressão\\n7\\nTamanho  \\ndo filtro\\nVazão \\n(m3/h)\\nDimensões\\nW x H x T \\nem mm\\nDimensões em mm\\nGrelha B H1L H\\n1 580 305 x 610 x 78 213 645 345 633 328\\n2 650 305 x 610 x 150 285 645 345 633 328\\n3 1750 305 x 610 x 292 427 645 345 633 328\\n4 3000 610 x 610 x 292 427 645 645 633 633\\n5 1179 610 x 610 x 78 213 645 645 633 633\\n6 880 305 x 915 x 78 213 950 345 938 328\\nSujeito a alterações - Reprodução proibida - TROX Group 10/2023)\\n\\ue214 Tipo de Grelha\\nA Grelha A- T\\nR Grelha AR-A\\nV Grelha VAT -A\\n\\ue215 Teste de Vazamento\\n0  Sem moldura de teste\\n\\ue216 Tamanho do Filtro \\n1 305x610x78mm\\n2 305x610x150mm\\n3  305x610x292mm\\n4  610x610x292mm\\n5  610x610x78mm\\n6  305x915x78mm\\n\\ue217 Acabamento do Grelha\\nAN0  Anodizado natural;\\nPH2 Pintura a pó hibrido \\n branco RAL 9003;\\n\\ue214 \\ue215 \\ue216 \\ue217\\nF670 - R / 0 / 4 / PH2\\n* Para modelo do filtro - definir classe de filtragem pelo catálogo de filtros'"
      ]
     },
     "execution_count": 3,
     "metadata": {},
     "output_type": "execute_result"
    }
   ],
   "source": [
    "path = r'C:\\Users\\Orçamento\\Desktop\\ENGENHORCA\\CAIXA TERMINAL F650.pdf'\n",
    "raw_text = get_pdf_text(path)\n",
    "raw_text"
   ]
  },
  {
   "cell_type": "code",
   "execution_count": 4,
   "id": "603aacad",
   "metadata": {},
   "outputs": [],
   "source": [
    "def get_text_chunks(raw_text):\n",
    "    text_splitter = RecursiveCharacterTextSplitter(separators=[\"\\n\\n\", \"\\n\", \" \", \"\"],chunk_size=300,chunk_overlap=50)\n",
    "    texts = text_splitter.split_text(raw_text or '')\n",
    "    return texts"
   ]
  },
  {
   "cell_type": "code",
   "execution_count": 5,
   "id": "c2ec7ae2",
   "metadata": {},
   "outputs": [
    {
     "data": {
      "text/plain": [
       "['Caixas Terminais\\nF6/1/P/6\\nPara filtros de alta eficiência, montagem no \\nteto e montagem em parede\\n®\\nTROX DO BRASIL LTDA.\\nRua Alvarenga, 2025  \\n05509-005 – São Paulo – SP\\n+55 (11) 3037-3900\\ntrox-br@troxgroup.com\\nwww.troxbrasil.com.br\\n\\uf232 +55 11 97395 1627\\nÍndice - Conteúdo - Tipos de produtos',\n",
       " 'Índice - Conteúdo - Tipos de produtos\\nCaixa Terminal F631\\nCaixa Terminal F640 \\n(na figura com difusor tipo VDW 676X54)\\nCaixa Terminal F660 \\n(na figura com difusor tipo FD)\\nCaixa Terminal F650\\n(na figura com difusor tipo ADLQ-A)\\nCaixa Terminal F670 \\n(na figura com grelha tipo AT-A)',\n",
       " '(na figura com grelha tipo AT-A)\\nÍndice - Conteúdo -Tipos de produtos ........................... 2\\nCaixa Terminal F631 com Filtros de Alta Eficiência para \\nmontagem no teto .......................................................... 3\\nCaixa Terminal F650 com Filtros de Alta Eficiência para',\n",
       " 'montagem no teto .......................................................... 4\\nCaixa Terminal F640 com Filtros de Alta Eficiência para \\nmontagem no teto .......................................................... 5\\nCaixa Terminal F660 com Filtros de Alta Eficiência para',\n",
       " 'montagem no teto .......................................................... 6\\nCaixa Terminal F670 com Filtros de Alta Eficiência para \\nmontagem na parede .................................................... 7\\n2100\\nB\\nM\\nO D\\n268\\n8 40\\nA\\nL\\nCaixa Terminal F631 \\nMontagem de teto',\n",
       " '8 40\\nA\\nL\\nCaixa Terminal F631 \\nMontagem de teto\\nPara aplicação em condições onde um \\nalto grau de pureza do ar asséptico é \\nnecessário. \\nCarcaça com um alto grau de \\nestanqueidade.  \\nCaixa cor Branco RAL9003\\nCom ponto de tomada de PAO.\\n3\\nTamanho  \\ndo filtro\\nVazão máxima \\nde ar I/s (m3/h)',\n",
       " 'do filtro\\nVazão máxima \\nde ar I/s (m3/h)\\nDimensões do filtro  \\nW x H x D em mm\\nDimensões da carcaça em mm\\nA B  D L M\\n1 170 (600) 535 x 535 x 78 600 600 248 549 549\\n2 255 (900) 835 x 535 x 78 600 900 313 549 849\\n3 340 (1200) 1135 x 535 x 78 600 1200 348 549 1149',\n",
       " '4 406 (1445) 1220 x 610 x 78 675 1285 348 624 1234\\n5  212 (745) 610 x 610 x 78 675 675 398 624 624\\n\\ue214 Chapa perfurada\\n0 Sem chapa perfurada\\nL Com chapa perfurada\\n\\ue216 Tomada de PAO\\nP  Com PAO\\n\\ue217 Tamanho do Filtro\\n1  535x535x78mm\\n2  835x835x78mm\\n3  1135x535x78mm\\n4  1220x610x78mm\\n5 610x610x78mm',\n",
       " '3  1135x535x78mm\\n4  1220x610x78mm\\n5 610x610x78mm \\n\\ue217 Acabamento da Chapa \\nPerfurada\\nPH2 Pintura a pó hibrido   \\n branco RAL 9003\\n\\ue214 \\ue216 \\ue217 \\ue218\\nF631 - L - 0 / P / 5 / PH2Caixa Terminal  F650 \\nMontagem de teto\\nPara aplicação em condições \\nonde um alto grau de pureza do ar',\n",
       " 'onde um alto grau de pureza do ar \\nasséptico é necessário. Disponível \\nem 03 profundidades dependentes \\ndo filtro. Carcaça com um alto grau de \\nestanqueidade.\\nFiltros com gaxeta de EPDM ou Selo \\nGel (Consultar medidas dos filtros com \\nselo Gel)\\nCaixa com ponto para tomada de PAO',\n",
       " 'selo Gel)\\nCaixa com ponto para tomada de PAO\\nCaixa cor Branco RAL9003\\n4\\n\\ue214 Tipo:\\nA Difusor ADLQ-A\\nB Difusor ADQ-2\\nC Difusor ADQ-3\\nD Difusor FD\\nL Difusor DP\\nV Difusor VDW\\nR Grelha AR\\n\\ue215 Teste de Vazamento\\n2 Sem Moldura - Com PAO\\n\\ue216 Tamanho do Filtro\\nVer T abela abaixo\\n\\ue217 Acabamento do Difusor',\n",
       " 'Ver T abela abaixo\\n\\ue217 Acabamento do Difusor\\nAN0  Anodizado natural;\\nPH2 Pintura a pó hibrido \\n branco RAL 9003;\\n\\ue214 \\ue215 \\ue216 \\ue217\\nF650 - A / 2 / E / PH2\\n* Não é possível utilizar difusor FD em \\ncaixas com filtro tamanho A.\\nTamanho  \\ndo filtro\\nFaixas \\nde \\nVazão\\nModelo\\nFiltro *\\nDimensões do filtro',\n",
       " 'de \\nVazão\\nModelo\\nFiltro *\\nDimensões do filtro \\nW x H x D em mm\\nDimensões de caixa em mm\\nA B E F G M B1 C\\nA 244 MFP 305x305x78 358 328X328 361 196 243 308 352X352 193\\nB 625 MFP 457x457x78 510 480x480 513 272 243 460 504x504 193\\nC 850 MFP 535x535x78 588 558x558 591 311 243 538 582x582 193',\n",
       " 'G 3000 MFC 610x610x292(41) 663 633x633 666 348 457 613 657x657 407\\nE 1179 MFP 610x610x78 663 633x633 666 348 243 613 657x657 193\\nH 3500 MFC 610x610x292(61) 663 633x633 666 348 457 613 657x657 407\\nF 1150 F771/772 610x610x150 663 633x633 666 348 315 613 657x657 265',\n",
       " 'S 2465 MFP 1220x610x78 1273 1243x633 666 348 243 1223 1267x657 193\\nT 2300 F771/772 1220x610x150 1273 1243x633 666 348 315 1223 1267x657 265\\nD 970 MFP 575x575x78 628 598x598 631 311 243 578 622x622 193\\nA seleção dos difusores deve ser feita a partir do catálogo de difusores.\\nDimensões\\nPontos de',\n",
       " 'Dimensões\\nPontos de\\nmedição de \\npressão\\nTipo de filtro:\\nMFP\\nMFC\\nOpção de difusor \\n(D, V)\\nOpção de  difusor \\nem chapa \\nperfurada e \\ngrelha\\n(L, R)\\nOpção de difusor \\n(A,B,C)\\nVmax = 600m3/h)\\nVmax = 600m3/h)\\nVmax = 2100m3/h)',\n",
       " 'Vmax = 600m3/h)\\nVmax = 600m3/h)\\nVmax = 2100m3/h)\\n* Para modelo do filtro - definir classe de filtragem pelo catálogo de filtrosTAM A B E C G 0D TAM DO FILTRO * F VAZÃO\\nA 352 328 311 193 101\\n123 e 148\\n305 x 305 x 78\\n415\\n244\\n158 e 198 465\\nB 504 480 463 193\\n101\\n148\\n457 x 457 x 78\\n567\\n625158 e 198 617',\n",
       " '101\\n148\\n457 x 457 x 78\\n567\\n625158 e 198 617\\n153 248 617\\nG 657 633 616 407 101 248 e 298 610 x 610 x 292 870 3000\\nE 657 633 616 193\\n101 198\\n610 x 610 x 78\\n770\\n1179153 248 775\\n203 298 775\\nH 657 633 616 407 101 348 610 x 610 x 292 (61) 920 3500\\nF 657 633 616 265\\n101\\n198\\n610 x 610 x 150\\n770\\n1150248 820',\n",
       " '101\\n198\\n610 x 610 x 150\\n770\\n1150248 820\\n153 298 820\\nC 582 558 541 193\\n101 198\\n535 x 535 x 78\\n695\\n850153 248 700\\n203 298 700\\nD 622 598 581 193\\n101 198\\n575 x 575 x 78\\n735\\n970153 248 740\\n203 298 740\\nY 582 558 541 265\\n101 198\\n535 x 535 x 150\\n695\\n869153 248 700\\n203 298 700\\nCaixa Terminal  F640',\n",
       " '869153 248 700\\n203 298 700\\nCaixa Terminal  F640\\nMontagem de teto\\nPara aplicação em condições \\nonde um alto grau de pureza do ar \\nasséptico é necessário. Disponível \\nem 03 profundidades dependentes \\ndo filtro. Carcaça com um alto grau de \\nestanqueidade.\\nFiltros com gaxeta de EPDM ou Selo',\n",
       " 'Filtros com gaxeta de EPDM ou Selo \\nGel (Consultar medidas dos filtros com \\nselo Gel)\\nCaixa com ponto para tomada de PAO\\nCaixa cor Branco RAL9003\\n5\\n\\ue214 Diâmetro do colarinho\\nOpção Ø Colarinho\\n1  123mm\\n3  148mm\\n4  158mm\\n6  198mm\\n8  248mm\\n9  298mm\\nE  348mm\\n\\ue215 Tipo de Difusor\\nA  Difusor ADLQ-A',\n",
       " 'E  348mm\\n\\ue215 Tipo de Difusor\\nA  Difusor ADLQ-A\\nB  Difusor ADQ-2\\nC  Difusor ADQ-3\\nD  Difusor FD\\nL  Difusor DP\\nV  Difusor VDW\\n\\ue216 Teste de Vazamento\\n2 Sem Moldura - Com PAO\\n\\ue217 Tamanho do Filtro \\nVer tabela abaixo\\n\\ue218 Acabamento do difusor\\nAN0  Anodizado natural;\\nPH2 Pintura a pó hibrido \\n branco RAL 9003;',\n",
       " 'PH2 Pintura a pó hibrido \\n branco RAL 9003;\\n\\ue214 \\ue215 \\ue216 \\ue217 \\ue218\\nF640 - 6 - A / 1 / E / PH2\\nDifusor para o tamanho do \\nfiltro:\\nDetalhe X\\nJ\\nH\\nK\\nV. \\nmáx. = 900 m3/h\\nK\\nTipo de\\ndifusor\\nADLQ-A\\nADQ-2\\nADQ-3\\nFD\\nDP (chapa \\nperfurada)\\nVDW\\nCódigo\\nA\\nB\\nC\\nD\\nL\\nV\\nDimensões\\n* A seleção dos difusores deve ser feita a',\n",
       " '* A seleção dos difusores deve ser feita a \\npartir do catálogo de difusores.\\nA\\nB\\nC\\nD\\nV\\nL\\n600 m3/h\\n600 m3/h\\n600 m3/h\\n2100 m3/h\\n* Não é possível utilizar difusor FD em \\ncaixas com filtro tamanho A.\\n* Para modelo do filtro - definir classe de filtragem pelo catálogo de filtrosCaixa Terminal  F660',\n",
       " 'Montagem de teto\\nPara aplicação em condições \\nonde um alto grau de pureza do ar \\nasséptico é necessário. Disponível \\nem 03 profundidades dependentes \\ndo filtro. Carcaça com um alto grau de \\nestanqueidade. \\nFiltros com gaxeta de EPDM ou Selo \\nGel (Consultar medidas dos filtros \\ncom selo Gel)',\n",
       " 'Gel (Consultar medidas dos filtros \\ncom selo Gel)\\nCaixa com ponto para tomada de PAO\\nCaixa cor Branco RAL9003\\n6\\nTamanho  \\nde filtro Vazão Modelo de \\nFiltro *\\nDimensões do \\nfiltro W x H x D \\nem mm\\nDimensões da carcaça em mm\\nAxA1 BxB1 ExE1 C ØD',\n",
       " 'Dimensões da carcaça em mm\\nAxA1 BxB1 ExE1 C ØD\\nA 244 MFP 305 x 305 x 78 352x352 328X328 311x311 193 98 à 198\\nB 625 MFP 457 x 457 x 78 504x504 480x480 463x463 193 148 à 298\\nG 3000 MFC 610x610x292(41) 657x657 633x633 616x616 407 298 à 348\\nE 1179 MFP 610x610x78 657x657 633x633 616x616 193 198 à 298',\n",
       " 'H 3500 MFC 610x610x292(61) 657x657 633x633 616x616 407 298 à 348\\nF 1150 MFP 610x610x150 657x657 633x633 616x616 265 198 à 298\\nI 1700 MFC 305x610x292(35) 352x657 328X633 311x616 407 98 à 248\\nC 850 MFP 535x535x78 582x582 558x558 541x541 193 198 à 298',\n",
       " 'D 970 MFP 575x575x78 622x622 598x598 581x581 193 198 à 298\\nJ 700 MFP 305x610x78 352x657 328x633 311x616 193 98 à 248\\nR 2100 MFP 915x610x78 962x657 938x633 921x616 193 198 à 348\\nS 2800 MFP 1220x610x78 1267x657 1243x633 1226x616 193 198 à 348\\n\\ue214 Diâmetro do Colarinho\\nOpção Ø Colarinho\\n0 98mm\\n1 123mm',\n",
       " 'Opção Ø Colarinho\\n0 98mm\\n1 123mm\\n2  138mm\\n3  148mm\\n4  158mm\\n6  198mm\\n8  248mm\\n9  298mm\\nE  348mm\\n\\ue215 Tipo de Difusor \\nA          Difusor ADLQ-A\\nB Difusor ADQ-2\\nC  Difusor ADQ-3\\nD  Difusor FD\\nL  Difusor DP\\nV  Difusor VDW-Q\\n\\ue216 Teste de Vazamento\\n2 Sem Moldura - Com PAO\\n\\ue217 Tamanho do Filtro\\nVer T abela',\n",
       " '\\ue217 Tamanho do Filtro\\nVer T abela\\n\\ue218 Acabamento do Difusor\\nAN0  Anodizado natural;\\nPH2 Pintura a pó hibrido \\n branco RAL 9003;\\n\\ue214 \\ue215 \\ue216 \\ue217 \\ue218\\nF660 - 6 / A / E1 / E / PH2\\nDimensões\\nK\\nDetalhe X\\nJ\\nH\\nK\\nDifusor para tamanho de filtro:\\nV. \\nmáx. = 600 m3/h\\nTipo de\\ndifusor\\nADLQ-A\\nADQ-2\\nADQ-3\\nFD\\nDP (chapa',\n",
       " 'Tipo de\\ndifusor\\nADLQ-A\\nADQ-2\\nADQ-3\\nFD\\nDP (chapa \\nperfurada)\\nVDW\\nCódigo\\nA\\nB\\nC\\nD\\nL\\nV\\n* A seleção dos difusores deve ser feita a partir do catálogo de difusores.\\nV. \\nmáx. = 2100 m3/h\\nV. \\nmáx. = 600 m3/h\\nA B C \\nD\\nV. \\nmáx. = 600 m3/h\\nV\\nL',\n",
       " 'máx. = 600 m3/h\\nA B C \\nD\\nV. \\nmáx. = 600 m3/h\\nV\\nL\\n* Para modelo do filtro - definir classe de filtragem pelo catálogo de filtrosCaixa Terminal F670\\nMontagem de parede\\nPara aplicação em condições \\nonde um alto grau de pureza do ar \\nasséptico é necessário. Disponível \\nem 03 profundidades dependentes',\n",
       " 'em 03 profundidades dependentes \\ndo filtro. Carcaça com um alto grau de \\nestanqueidade.\\nFiltros com gaxeta de EPDM\\nCaixa com ponto para tomada de PAO\\nCaixa cor Branco RAL9003\\nDimensões\\nGrelha1 A-T AR-A VAT-A \\nCódigo A R V\\n1) Descreva o tipo através do código de letra acima no pedido de \\ncompra.\\nH',\n",
       " 'compra.\\nH\\nB H1\\nL\\nGrelha\\nG\\nFixação para \\nalvenaria\\nPontos de medição de \\npressão\\n7\\nTamanho  \\ndo filtro\\nVazão \\n(m3/h)\\nDimensões\\nW x H x T \\nem mm\\nDimensões em mm\\nGrelha B H1L H\\n1 580 305 x 610 x 78 213 645 345 633 328\\n2 650 305 x 610 x 150 285 645 345 633 328\\n3 1750 305 x 610 x 292 427 645 345 633 328',\n",
       " '3 1750 305 x 610 x 292 427 645 345 633 328\\n4 3000 610 x 610 x 292 427 645 645 633 633\\n5 1179 610 x 610 x 78 213 645 645 633 633\\n6 880 305 x 915 x 78 213 950 345 938 328\\nSujeito a alterações - Reprodução proibida - TROX Group 10/2023)\\n\\ue214 Tipo de Grelha\\nA Grelha A- T\\nR Grelha AR-A\\nV Grelha VAT -A',\n",
       " 'A Grelha A- T\\nR Grelha AR-A\\nV Grelha VAT -A\\n\\ue215 Teste de Vazamento\\n0  Sem moldura de teste\\n\\ue216 Tamanho do Filtro \\n1 305x610x78mm\\n2 305x610x150mm\\n3  305x610x292mm\\n4  610x610x292mm\\n5  610x610x78mm\\n6  305x915x78mm\\n\\ue217 Acabamento do Grelha\\nAN0  Anodizado natural;\\nPH2 Pintura a pó hibrido \\n branco RAL 9003;',\n",
       " 'PH2 Pintura a pó hibrido \\n branco RAL 9003;\\n\\ue214 \\ue215 \\ue216 \\ue217\\nF670 - R / 0 / 4 / PH2\\n* Para modelo do filtro - definir classe de filtragem pelo catálogo de filtros']"
      ]
     },
     "execution_count": 5,
     "metadata": {},
     "output_type": "execute_result"
    }
   ],
   "source": [
    "text_chunks = get_text_chunks(raw_text)\n",
    "text_chunks"
   ]
  },
  {
   "cell_type": "code",
   "execution_count": 6,
   "id": "fd7810c7",
   "metadata": {},
   "outputs": [],
   "source": [
    "def get_vectorstore(text_chunks):\n",
    "    embeddings = HuggingFaceEmbeddings(model_name='multi-qa-mpnet-base-dot-v1')\n",
    "    vectorstore = FAISS.from_texts(texts=text_chunks,embedding=embeddings)\n",
    "    return vectorstore"
   ]
  },
  {
   "cell_type": "code",
   "execution_count": 7,
   "id": "156abf17",
   "metadata": {},
   "outputs": [
    {
     "name": "stderr",
     "output_type": "stream",
     "text": [
      "C:\\Users\\Orçamento\\AppData\\Local\\Temp\\ipykernel_25204\\668656990.py:2: LangChainDeprecationWarning: The class `HuggingFaceEmbeddings` was deprecated in LangChain 0.2.2 and will be removed in 1.0. An updated version of the class exists in the :class:`~langchain-huggingface package and should be used instead. To use it run `pip install -U :class:`~langchain-huggingface` and import as `from :class:`~langchain_huggingface import HuggingFaceEmbeddings``.\n",
      "  embeddings = HuggingFaceEmbeddings(model_name='multi-qa-mpnet-base-dot-v1')\n",
      "c:\\Users\\Orçamento\\Desktop\\ENGENHORCA\\.venv-pipeline-v3\\Lib\\site-packages\\tqdm\\auto.py:21: TqdmWarning: IProgress not found. Please update jupyter and ipywidgets. See https://ipywidgets.readthedocs.io/en/stable/user_install.html\n",
      "  from .autonotebook import tqdm as notebook_tqdm\n"
     ]
    },
    {
     "name": "stdout",
     "output_type": "stream",
     "text": [
      "<langchain_community.vectorstores.faiss.FAISS object at 0x000001B0A6E8C890>\n"
     ]
    }
   ],
   "source": [
    "vectorstore = get_vectorstore(text_chunks)\n",
    "print(vectorstore)"
   ]
  },
  {
   "cell_type": "code",
   "execution_count": 8,
   "id": "c191c631",
   "metadata": {},
   "outputs": [],
   "source": [
    "def get_convesation_chain():\n",
    "    llm = ChatGroq(model='llama-3.1-8b-instant',temperature=0.2)\n",
    "    \n",
    "    prompt = ChatPromptTemplate.from_messages([\n",
    "        ('system',\"Você é um assistente na área de HVAC (ar condicionado). Responda de forma objetiva e correta.\"),\n",
    "        MessagesPlaceholder('history'),\n",
    "        ('human','{question}')\n",
    "        ])\n",
    "    \n",
    "    chain = prompt | llm | StrOutputParser()\n",
    "    \n",
    "    return chain"
   ]
  },
  {
   "cell_type": "code",
   "execution_count": 9,
   "id": "7f77b72b",
   "metadata": {},
   "outputs": [
    {
     "name": "stdout",
     "output_type": "stream",
     "text": [
      "Um split é um tipo de sistema de ar condicionado que consiste em dois componentes principais: o condensador e o evaporador.\n",
      "\n",
      "O condensador é o componente externo, geralmente instalado no exterior da edificação, e é responsável por dissipar o calor do refrigerante. Ele é conectado ao evaporador por meio de um tubo de condensação.\n",
      "\n",
      "O evaporador, por outro lado, é o componente interno, instalado dentro da edificação, e é responsável por absorver o calor do ambiente e resfriar o ar. Ele é conectado ao condensador por meio do tubo de condensação.\n",
      "\n",
      "O nome \"split\" vem do fato de que o sistema é dividido em dois componentes separados, um externo e outro interno, que são conectados por meio de um tubo de condensação. Isso permite uma instalação mais flexível e fácil de manter, pois os componentes podem ser instalados em locais diferentes.\n",
      "\n",
      "Os sistemas de split são muito comuns em residências e pequenas edificações, pois são fáceis de instalar e manter, e oferecem uma boa relação custo-benefício. Além disso, eles são silenciosos e não ocupam muito espaço.\n"
     ]
    }
   ],
   "source": [
    "chain = get_convesation_chain()\n",
    "resposta = chain.invoke({'question':'O que é um split?', 'history':[]})\n",
    "print(resposta)"
   ]
  },
  {
   "cell_type": "code",
   "execution_count": 10,
   "id": "5b185fc5",
   "metadata": {},
   "outputs": [],
   "source": [
    "retriever = vectorstore.as_retriever(search_kwargs={'k':3})"
   ]
  },
  {
   "cell_type": "code",
   "execution_count": 11,
   "id": "1909ab66",
   "metadata": {},
   "outputs": [],
   "source": [
    "qa_chain = RetrievalQA.from_chain_type(\n",
    "    llm=ChatGroq(model='llama-3.1-8b-instant', temperature=0.2),\n",
    "    retriever=retriever,\n",
    "    chain_type='stuff'\n",
    ")"
   ]
  },
  {
   "cell_type": "code",
   "execution_count": 12,
   "id": "83a15635",
   "metadata": {},
   "outputs": [
    {
     "name": "stdout",
     "output_type": "stream",
     "text": [
      "{'query': 'O que é uma caixa terminal?', 'result': 'Com base no contexto fornecido, parece que uma caixa terminal é um tipo de equipamento utilizado em sistemas de ventilação ou ar condicionado. Ela é projetada para ser montada no teto e provavelmente serve como um terminal ou ponto de saída para o ar tratado ou condicionado.\\n\\nA presença de filtros de alta eficiência e diferentes tipos de difusores ou grelhas sugere que a caixa terminal é projetada para fornecer um fluxo de ar limpo e controlado para a área circundante.'}\n"
     ]
    }
   ],
   "source": [
    "resposta_documento = qa_chain.invoke({'query': 'O que é uma caixa terminal?'})\n",
    "print(resposta_documento)"
   ]
  },
  {
   "cell_type": "code",
   "execution_count": 13,
   "id": "1a5742bf",
   "metadata": {},
   "outputs": [],
   "source": [
    "def _format_docs(docs):\n",
    "    # junta os trechos retornados pelo retriever\n",
    "    return \"\\n\\n---\\n\\n\".join(d.page_content for d in docs)"
   ]
  },
  {
   "cell_type": "code",
   "execution_count": 14,
   "id": "82f34cb7",
   "metadata": {},
   "outputs": [],
   "source": [
    "def build_rag_chain():\n",
    "    llm = ChatGroq(model='llama-3.1-8b-instant',temperature=0.2)\n",
    "    \n",
    "    prompt = ChatPromptTemplate.from_messages([\n",
    "        ('system',\n",
    "        \"Você é um assistente técnico de HVAC. Responda com base ESTRITA no contexto. \"\n",
    "        \"Se não houver contexto suficiente, diga que não encontrou no documento.\"),\n",
    "        ('human','Pergunta:{question}\\n\\n'\n",
    "        'Contexto (trechos recuperados):\\n{context}')\n",
    "        ])\n",
    "    return prompt | llm | StrOutputParser()"
   ]
  },
  {
   "cell_type": "code",
   "execution_count": 15,
   "id": "7cdd894a",
   "metadata": {},
   "outputs": [],
   "source": [
    "def handler_user_input(question: str):\n",
    "    global rag, retriever\n",
    "    if retriever:\n",
    "        chain = {\n",
    "            'context': retriever | RunnableLambda(_format_docs),\n",
    "            'question': RunnablePassthrough()\n",
    "            } | build_rag_chain\n",
    "        answer = chain.invoke(question)\n",
    "        return answer\n",
    "    else:\n",
    "        # fallback: sem contexto\n",
    "        answer = rag.invoke({\"question\": question, \"context\": \"(nenhum contexto: nenhum índice carregado)\"})\n",
    "        return answer\n",
    "\n"
   ]
  },
  {
   "cell_type": "code",
   "execution_count": 16,
   "id": "d61818a9",
   "metadata": {},
   "outputs": [
    {
     "ename": "TypeError",
     "evalue": "unsupported operand type(s) for |: 'dict' and 'function'",
     "output_type": "error",
     "traceback": [
      "\u001b[31m---------------------------------------------------------------------------\u001b[39m",
      "\u001b[31mTypeError\u001b[39m                                 Traceback (most recent call last)",
      "\u001b[36mCell\u001b[39m\u001b[36m \u001b[39m\u001b[32mIn[16]\u001b[39m\u001b[32m, line 1\u001b[39m\n\u001b[32m----> \u001b[39m\u001b[32m1\u001b[39m \u001b[38;5;28mprint\u001b[39m(\u001b[43mhandler_user_input\u001b[49m\u001b[43m(\u001b[49m\u001b[33;43m\"\u001b[39;49m\u001b[33;43mO que é um sistema split?\u001b[39;49m\u001b[33;43m\"\u001b[39;49m\u001b[43m)\u001b[49m)\n",
      "\u001b[36mCell\u001b[39m\u001b[36m \u001b[39m\u001b[32mIn[15]\u001b[39m\u001b[32m, line 4\u001b[39m, in \u001b[36mhandler_user_input\u001b[39m\u001b[34m(question)\u001b[39m\n\u001b[32m      2\u001b[39m \u001b[38;5;28;01mglobal\u001b[39;00m rag, retriever\n\u001b[32m      3\u001b[39m \u001b[38;5;28;01mif\u001b[39;00m retriever:\n\u001b[32m----> \u001b[39m\u001b[32m4\u001b[39m     chain = \u001b[43m{\u001b[49m\n\u001b[32m      5\u001b[39m \u001b[43m        \u001b[49m\u001b[33;43m'\u001b[39;49m\u001b[33;43mcontext\u001b[39;49m\u001b[33;43m'\u001b[39;49m\u001b[43m:\u001b[49m\u001b[43m \u001b[49m\u001b[43mretriever\u001b[49m\u001b[43m \u001b[49m\u001b[43m|\u001b[49m\u001b[43m \u001b[49m\u001b[43mRunnableLambda\u001b[49m\u001b[43m(\u001b[49m\u001b[43m_format_docs\u001b[49m\u001b[43m)\u001b[49m\u001b[43m,\u001b[49m\n\u001b[32m      6\u001b[39m \u001b[43m        \u001b[49m\u001b[33;43m'\u001b[39;49m\u001b[33;43mquestion\u001b[39;49m\u001b[33;43m'\u001b[39;49m\u001b[43m:\u001b[49m\u001b[43m \u001b[49m\u001b[43mRunnablePassthrough\u001b[49m\u001b[43m(\u001b[49m\u001b[43m)\u001b[49m\n\u001b[32m      7\u001b[39m \u001b[43m        \u001b[49m\u001b[43m}\u001b[49m\u001b[43m \u001b[49m\u001b[43m|\u001b[49m\u001b[43m \u001b[49m\u001b[43mbuild_rag_chain\u001b[49m\n\u001b[32m      8\u001b[39m     answer = chain.invoke(question)\n\u001b[32m      9\u001b[39m     \u001b[38;5;28;01mreturn\u001b[39;00m answer\n",
      "\u001b[31mTypeError\u001b[39m: unsupported operand type(s) for |: 'dict' and 'function'"
     ]
    }
   ],
   "source": [
    "print(handler_user_input(\"O que é um sistema split?\"))"
   ]
  },
  {
   "cell_type": "code",
   "execution_count": 17,
   "id": "c66a4c0c",
   "metadata": {},
   "outputs": [],
   "source": [
    "def format_docs(docs):\n",
    "    return \"\\n\\n\".join(getattr(d, \"page_content\", str(d)) for d in docs)"
   ]
  },
  {
   "cell_type": "code",
   "execution_count": 18,
   "id": "c1ba44dd",
   "metadata": {},
   "outputs": [],
   "source": [
    "def get_conversation_chain_rag(retriever):\n",
    "    llm = ChatGroq(model='llama-3.1-8b-instant', temperature=0.2)\n",
    "\n",
    "    prompt = ChatPromptTemplate.from_messages([\n",
    "        (\"system\",\n",
    "        \"Você é um assistente HVAC. Responda **apenas** com base no contexto.\\n\\n\"\n",
    "        \"Contexto:\\n{context}\"),\n",
    "        MessagesPlaceholder(\"history\"),\n",
    "        (\"human\", \"{question}\")\n",
    "    ])\n",
    "\n",
    "    chain = {\n",
    "        \"question\": RunnablePassthrough(),                       # passa a pergunta\n",
    "        \"history\": itemgetter(\"history\"),                        # se você tiver histórico\n",
    "        \"context\": itemgetter(\"question\")                        # usa a pergunta\n",
    "                | retriever                                   # busca no índice\n",
    "                | RunnableLambda(format_docs),                # formata os docs\n",
    "    } | prompt | llm | StrOutputParser()\n",
    "\n",
    "    return chain"
   ]
  },
  {
   "cell_type": "code",
   "execution_count": 26,
   "id": "74c666aa",
   "metadata": {},
   "outputs": [],
   "source": [
    "user_question = 'Me fale tudo sobre caixa terminal'\n",
    "chain_rag = get_conversation_chain_rag(retriever)\n",
    "resp = chain_rag.invoke({\"question\": user_question, \"history\": []})"
   ]
  },
  {
   "cell_type": "code",
   "execution_count": 27,
   "id": "a0be565d",
   "metadata": {},
   "outputs": [
    {
     "data": {
      "text/plain": [
       "'**Caixa Terminal**\\n\\nA caixa terminal é um componente fundamental em sistemas de ar condicionado (HVAC) e ventilação. Ela é responsável por distribuir o ar condicionado ou o ar quente para diferentes áreas de um ambiente, garantindo uma distribuição uniforme e eficiente.\\n\\n**Tipos de Caixa Terminal**\\n\\nExistem vários tipos de caixa terminal, cada um com suas características e aplicações específicas. Alguns dos principos tipos incluem:\\n\\n1. **Caixa Terminal F631**: Ideal para montagem no teto, com filtros de alta eficiência e compatível com difusores tipo VDW 676X54.\\n2. **Caixa Terminal F640**: Também para montagem no teto, com filtros de alta eficiência e compatível com difusores tipo AT-A.\\n3. **Caixa Terminal F650**: Outra opção para montagem no teto, com filtros de alta eficiência e compatível com difusores tipo ADLQ-A.\\n4. **Caixa Terminal F660**: Destinado para montagem no teto, com filtros de alta eficiência e compatível com difusores tipo FD.\\n5. **Caixa Terminal F670**: Para montagem no teto, com filtros de alta eficiência e compatível com difusores tipo AT-A.\\n\\n**Características**\\n\\nAs caixas terminais têm várias características importantes, incluindo:\\n\\n* **Filtros de Alta Eficiência**: Reduzem a presença de partículas no ar condicionado, garantindo uma qualidade do ar melhorada.\\n* **Compatibilidade com Difusores**: As caixas terminais são projetadas para funcionar com difusores específicos, garantindo uma distribuição eficiente do ar condicionado.\\n* **Montagem no Teto**: As caixas terminais são projetadas para ser montadas no teto, facilitando a instalação e a manutenção.\\n\\n**Aplicações**\\n\\nAs caixas terminais são amplamente utilizadas em diferentes ambientes, incluindo:\\n\\n* **Residências**: Para fornecer ar condicionado ou ar quente para diferentes áreas da casa.\\n* **Comércio**: Para manter um ambiente confortável e saudável para os clientes e funcionários.\\n* **Indústria**: Para fornecer ar condicionado ou ar quente para áreas de trabalho e processos industriais.\\n\\nEm resumo, as caixas terminais são componentes fundamentais em sistemas de ar condicionado e ventilação, oferecendo uma distribuição eficiente e uniforme do ar condicionado ou ar quente para diferentes áreas de um ambiente.'"
      ]
     },
     "execution_count": 27,
     "metadata": {},
     "output_type": "execute_result"
    }
   ],
   "source": [
    "resp"
   ]
  },
  {
   "cell_type": "markdown",
   "id": "f0c7e9ef",
   "metadata": {},
   "source": [
    "Com base no contexto fornecido, parece que uma caixa terminal é um tipo de equipamento utilizado em sistemas de ventilação ou ar condicionado. Ela é projetada para ser montada no teto e provavelmente serve como um terminal ou ponto de saída para o ar tratado ou condicionado.\\n\\nA presença de filtros de alta eficiência e diferentes tipos de difusores ou grelhas sugere que a caixa terminal é projetada para fornecer um fluxo de ar limpo e controlado para a área circundante."
   ]
  },
  {
   "cell_type": "markdown",
   "id": "f61d6337",
   "metadata": {},
   "source": [
    "A caixa terminal, também conhecida como unidade terminal ou unidade de superfície, é uma parte fundamental de um sistema de ar condicionado (HVAC). Ela é responsável por fornecer o ar condicionado (ar quente ou frio) para um ambiente específico.\\n\\nA caixa terminal é composta por um conjunto de componentes, incluindo:\\n\\n- Um evaporador (ou condensador) para resfriar ou aquecer o ar;\\n- Um ventilador para distribuir o ar condicionado;\\n- Um filtro para limpar o ar;\\n- Um sistema de controle para regular a temperatura e a umidade.\\n\\nA caixa terminal pode ser instalada em uma parede, no teto ou no chão, dependendo do tipo de sistema de ar condicionado e do projeto de instalação. Ela é conectada à unidade de compressão (ou unidade de condensação) por meio de tubos de condensação e de evaporação.\\n\\nA caixa terminal é responsável por fornecer o ar condicionado de alta qualidade para o ambiente, mantendo a temperatura e a umidade dentro de limites confortáveis. Ela é uma parte crítica do sistema de ar condicionado e deve ser instalada e manutida corretamente para garantir o desempenho eficaz e a segurança do sistema."
   ]
  },
  {
   "cell_type": "markdown",
   "id": "b893a382",
   "metadata": {},
   "source": [
    "O Caixa Terminal F650 é um produto que é montado no teto e é equipado com filtros de alta eficiência."
   ]
  },
  {
   "cell_type": "markdown",
   "id": "31d463fb",
   "metadata": {},
   "source": [
    "Caixa Terminal**\\n\\nA caixa terminal é um componente fundamental em sistemas de ar condicionado (HVAC) e ventilação. Ela é responsável por distribuir o ar condicionado ou o ar quente para diferentes áreas de um ambiente, garantindo uma distribuição uniforme e eficiente.\\n\\n**Tipos de Caixa Terminal**\\n\\nExistem vários tipos de caixa terminal, cada um com suas características e aplicações específicas. Alguns dos principos tipos incluem:\\n\\n1. **Caixa Terminal F631**: Ideal para montagem no teto, com filtros de alta eficiência e compatível com difusores tipo VDW 676X54.\\n2. **Caixa Terminal F640**: Também para montagem no teto, com filtros de alta eficiência e compatível com difusores tipo AT-A.\\n3. **Caixa Terminal F650**: Outra opção para montagem no teto, com filtros de alta eficiência e compatível com difusores tipo ADLQ-A.\\n4. **Caixa Terminal F660**: Destinado para montagem no teto, com filtros de alta eficiência e compatível com difusores tipo FD.\\n5. **Caixa Terminal F670**: Para montagem no teto, com filtros de alta eficiência e compatível com difusores tipo AT-A.\\n\\n**Características**\\n\\nAs caixas terminais têm várias características importantes, incluindo:\\n\\n* **Filtros de Alta Eficiência**: Reduzem a presença de partículas no ar condicionado, garantindo uma qualidade do ar melhorada.\\n* **Compatibilidade com Difusores**: As caixas terminais são projetadas para funcionar com difusores específicos, garantindo uma distribuição eficiente do ar condicionado.\\n* **Montagem no Teto**: As caixas terminais são projetadas para ser montadas no teto, facilitando a instalação e a manutenção.\\n\\n**Aplicações**\\n\\nAs caixas terminais são amplamente utilizadas em diferentes ambientes, incluindo:\\n\\n* **Residências**: Para fornecer ar condicionado ou ar quente para diferentes áreas da casa.\\n* **Comércio**: Para manter um ambiente confortável e saudável para os clientes e funcionários.\\n* **Indústria**: Para fornecer ar condicionado ou ar quente para áreas de trabalho e processos industriais.\\n\\nEm resumo, as caixas terminais são componentes fundamentais em sistemas de ar condicionado e ventilação, oferecendo uma distribuição eficiente e uniforme do ar condicionado ou ar quente para diferentes áreas de um ambiente."
   ]
  },
  {
   "cell_type": "code",
   "execution_count": 32,
   "id": "5c2c1fd7",
   "metadata": {},
   "outputs": [],
   "source": [
    "def chunks_image(pdf):\n",
    "    chunks = partition_pdf(\n",
    "        filename=pdf,\n",
    "        infer_table_structure=True,            # extract tables\n",
    "        strategy=\"hi_res\",                     # mandatory to infer tables\n",
    "\n",
    "        extract_image_block_types=[\"Image\",\"Table\"],   # Add 'Table' to list to extract image of tables\n",
    "        # image_output_dir_path=output_path,   # if None, images and tables will saved in base64\n",
    "\n",
    "        extract_image_block_to_payload=True,   # if true, will extract base64 for API usage\n",
    "\n",
    "        chunking_strategy=\"basic\",          # or 'basic'\n",
    "        max_characters=5000,                  # defaults to 500\n",
    "        combine_text_under_n_chars=500,       # defaults to 0\n",
    "        new_after_n_chars=500,\n",
    "        languages=[\"por\",\"eng\"],\n",
    "        ocr_languages=[\"por\",\"eng\"]\n",
    "\n",
    "        # extract_images_in_pdf=True,          # deprecated\n",
    "    )\n",
    "    \n",
    "    return chunks"
   ]
  },
  {
   "cell_type": "code",
   "execution_count": 33,
   "id": "449edbe3",
   "metadata": {},
   "outputs": [
    {
     "name": "stderr",
     "output_type": "stream",
     "text": [
      "The ocr_languages kwarg will be deprecated in a future version of unstructured. Please use languages instead.\n",
      "The `max_size` parameter is deprecated and will be removed in v4.26. Please specify in `size['longest_edge'] instead`.\n"
     ]
    }
   ],
   "source": [
    "chunks = chunks_image(path)"
   ]
  },
  {
   "cell_type": "code",
   "execution_count": 35,
   "id": "62f15272",
   "metadata": {},
   "outputs": [
    {
     "name": "stdout",
     "output_type": "stream",
     "text": [
      "14\n"
     ]
    }
   ],
   "source": [
    "print(len(chunks))"
   ]
  },
  {
   "cell_type": "code",
   "execution_count": 37,
   "id": "124baf66",
   "metadata": {},
   "outputs": [],
   "source": [
    "def extract_elements(chunks):\n",
    "    tables, texts, images_b64 = [], [], []\n",
    "\n",
    "    for ch in chunks:\n",
    "        # Tabela “pura”\n",
    "        if isinstance(ch, Table):\n",
    "            tables.append(ch)\n",
    "\n",
    "        # Tabelas/Imagens aninhadas\n",
    "        if hasattr(ch.metadata, \"orig_elements\") and ch.metadata.orig_elements:\n",
    "            for el in ch.metadata.orig_elements:\n",
    "                if isinstance(el, Table):\n",
    "                    tables.append(el)\n",
    "                # >>> AQUI: checar Image do unstructured, não PIL\n",
    "                if isinstance(el, USImage) and getattr(el.metadata, \"image_base64\", None):\n",
    "                    images_b64.append(el.metadata.image_base64)\n",
    "\n",
    "        # Texto (CompositeElement)\n",
    "        if isinstance(ch, CompositeElement):\n",
    "            # troque para texts.append(ch) se você QUISER o objeto\n",
    "            texts.append(getattr(ch, \"text\", \"\"))\n",
    "\n",
    "        # (Opcional) imagem “pura” no nível do chunk\n",
    "        if isinstance(ch, USImage) and getattr(ch.metadata, \"image_base64\", None):\n",
    "            images_b64.append(ch.metadata.image_base64)\n",
    "            \n",
    "    print(f'O número de chunks é: {len(chunks)}')\n",
    "    print(f'O número de tabelas é: {len(tables)}')\n",
    "    print(f'O número de textos é: {len(texts)}')\n",
    "    print(f'O número de imagens é: {len(images_b64)}')\n",
    "\n",
    "    return tables, texts, images_b64"
   ]
  },
  {
   "cell_type": "code",
   "execution_count": 38,
   "id": "eb994c1e",
   "metadata": {},
   "outputs": [
    {
     "name": "stdout",
     "output_type": "stream",
     "text": [
      "O número de chunks é: 14\n",
      "O número de tabelas é: 8\n",
      "O número de textos é: 13\n",
      "O número de imagens é: 16\n"
     ]
    }
   ],
   "source": [
    "tables, text, images_b64 = extract_elements(chunks)"
   ]
  },
  {
   "cell_type": "code",
   "execution_count": 43,
   "id": "b0f36412",
   "metadata": {},
   "outputs": [
    {
     "name": "stdout",
     "output_type": "stream",
     "text": [
      "[<unstructured.documents.elements.Table object at 0x000001B1CFA9ED90>, <unstructured.documents.elements.Table object at 0x000001B1C6AD5A10>, <unstructured.documents.elements.Table object at 0x000001B1CFA7D450>, <unstructured.documents.elements.Table object at 0x000001B1CFAAC7D0>, <unstructured.documents.elements.Table object at 0x000001B1CFA93810>, <unstructured.documents.elements.Table object at 0x000001B1CFAAD590>, <unstructured.documents.elements.Table object at 0x000001B1CFABC950>, <unstructured.documents.elements.Table object at 0x000001B1CFAC8B90>]\n"
     ]
    }
   ],
   "source": [
    "print(tables)"
   ]
  },
  {
   "cell_type": "code",
   "execution_count": 41,
   "id": "59bd19ec",
   "metadata": {},
   "outputs": [],
   "source": [
    "def ocr_from_images_base64(images_b64):\n",
    "    image_texts = []\n",
    "    for b64 in images_b64:\n",
    "        try:\n",
    "            image_data = base64.b64decode(b64)\n",
    "            image = PILImage.open(BytesIO(image_data))\n",
    "            text = pytesseract.image_to_string(image, lang=\"por+eng\")\n",
    "            image_texts.append(text)\n",
    "        except Exception as e:\n",
    "            print(f\"❌ Erro ao processar imagem: {e}\")\n",
    "            image_texts.append(text.strip())\n",
    "    return image_texts"
   ]
  },
  {
   "cell_type": "code",
   "execution_count": 42,
   "id": "85d6563e",
   "metadata": {},
   "outputs": [
    {
     "name": "stdout",
     "output_type": "stream",
     "text": [
      "['', '', '', '', 'Yas if\\n: T\\nÁ\\n', '', '/ Z\\nFo\\n\\na\\n\\nHE a\\n\\n', 'ke—\\n\\n100, |40,\\n\\n| —\\n\\n', 'Pontos de\\nmedição de\\npressão\\n\\nTipo de filtro:\\nMFP\\nMFC\\n\\nOpção de difusor\\n(D,V)\\n\\nOpção de difusor\\nem chapa\\nperfurada e\\ngrelha\\n\\n(L, R)\\n\\nOpção de difusor\\n(A,B,C)\\n\\nl_\\ny\\nyy\\n\\n101 27\\nis\\nbe\\n\\nE\\n\\ne\\n\\nis\\n\\nVmax = 600m°/h)\\n\\nud\\n\\n', '27\\n\\nExEt\\no\\n\\n101\\n\\nB281\\n\\nP\\n\\n', '', 'BC\\n\\n= 2100 mº/t\\n\\nmax.\\n\\n', 'V max, = 600 m/h\\n\\nmax.\\nY wordy\\nVmax. = 600 mê/h\\n\\nmax.\\n\\nOK\\n\\n', '', '', '']\n"
     ]
    }
   ],
   "source": [
    "image_text = ocr_from_images_base64(images_b64)\n",
    "print(image_text)"
   ]
  },
  {
   "cell_type": "code",
   "execution_count": 45,
   "id": "688a2c48",
   "metadata": {},
   "outputs": [],
   "source": [
    "# Prompt\n",
    "prompt_text = \"\"\"\n",
    "You are an assistant. If the input is a question, answer it clearly and concisely.\n",
    "If the input is a piece of text or table, summarize it.\n",
    "\n",
    "Input:\n",
    "{element}\n",
    "\"\"\"\n",
    "prompt = ChatPromptTemplate.from_template(prompt_text)\n",
    "\n",
    "# Summary chain\n",
    "llm = ChatGroq(api_key=os.getenv(\"GROQ_API_KEY\"),model='llama-3.1-8b-instant',temperature=0.2)\n",
    "summarize_chain = {\"element\": lambda x: x} | prompt | llm | StrOutputParser()"
   ]
  },
  {
   "cell_type": "code",
   "execution_count": 46,
   "id": "4b9c8573",
   "metadata": {},
   "outputs": [],
   "source": [
    "import time\n",
    "from langchain_core.runnables import Runnable\n",
    "from typing import List\n",
    "\n",
    "def safe_batch_process(chain: Runnable, data: List[str], batch_size=1, wait_on_error=10):\n",
    "    results = []\n",
    "    for i in range(0, len(data), batch_size):\n",
    "        batch = data[i:i+batch_size]\n",
    "        try:\n",
    "            batch_results = chain.batch(batch, {\"max_concurrency\": 2})\n",
    "            results.extend(batch_results)\n",
    "        except Exception as e:\n",
    "            print(f\"⏱️ Rate limit atingido ou erro: {e}\")\n",
    "            print(f\"🔁 Esperando {wait_on_error} segundos para tentar de novo...\")\n",
    "            time.sleep(wait_on_error)\n",
    "            # tenta o mesmo batch de novo\n",
    "            try:\n",
    "                batch_results = chain.batch(batch, {\"max_concurrency\": 2})\n",
    "                results.extend(batch_results)\n",
    "            except Exception as e2:\n",
    "                print(f\"❌ Ainda deu erro: {e2} — pulando esse batch.\")\n",
    "    return results"
   ]
  },
  {
   "cell_type": "code",
   "execution_count": 47,
   "id": "f301f90b",
   "metadata": {},
   "outputs": [],
   "source": [
    "table_summaries = safe_batch_process(summarize_chain, tables)"
   ]
  },
  {
   "cell_type": "code",
   "execution_count": 48,
   "id": "06815641",
   "metadata": {},
   "outputs": [
    {
     "data": {
      "text/plain": [
       "[\"It appears to be a piece of text with product information. \\n\\nHere's a summary:\\n\\nThe text lists three products: \\n1. Caixa Terminal F631\\n2. Caixa Terminal F650\\n3. Caixa Terminal F640\\n\\nAll three products are described as having high-efficiency filters and are designed for ceiling mounting.\",\n",
       " 'The input appears to be a piece of text describing two types of terminal boxes with high-efficiency filters. \\n\\nThe text mentions two models: \\n\\n1. F660, which is mounted on the ceiling.\\n2. F670, which is mounted on the wall.\\n\\nThe text is somewhat unclear due to the presence of repeated characters, but it seems to be describing the installation locations of these terminal boxes.',\n",
       " 'This appears to be a list of measurements. \\n\\nHere\\'s a summary of the list:\\n\\n- The list contains multiple measurements of dimensions and weights.\\n- The measurements are in the format of \"weight (dimension)\" or \"dimension1 x dimension2 x dimension3\".\\n- There are multiple sets of measurements with different dimensions and weights.\\n- The weights range from 170 to 1285, and the dimensions range from 78 to 610.',\n",
       " \"This appears to be a list of printer models with their specifications. \\n\\nThe list includes the following information for each printer model:\\n\\n- Model type (MFP or MFC)\\n- Dimensions (length, width, and height)\\n- Weight\\n- Other dimensions (e.g., 328X328, 558x558)\\n- Other specifications (e.g., 243, 193, 407, 265)\\n\\nHowever, without more context, it's difficult to provide a more detailed summary. \\n\\nHere's a breakdown of the list into categories:\\n\\n- MFP models:\\n  - 244 MFP\\n  - 305x305x78\\n  - 625 MFP\\n  - 850 MFP\\n  - 1179 MFP\\n  - 2465 MFP\\n  - 970 MFP\\n\\n- MFC models:\\n  - 3000 MFC\\n  - 3500 MFC\\n\\n- Other models:\\n  - F771/772\\n  - F1150\\n  - F2300\",\n",
       " \"This appears to be a list of printers and their specifications. \\n\\nHere's a summary of the list:\\n\\n- The list contains specifications of various printers, including MFPs (Multi-Function Printers) and MFCs (Multi-Function Copiers).\\n- The specifications include dimensions (length, width, and height), weight, and other details.\\n- The list includes printers from different brands, such as MFP, MFC, and F771/772.\\n- The printers have different models, such as 2465, 3000, 3500, 1150, 970, and 2300.\\n- The list also includes some unclear or special characters, such as '$s' and '='.\",\n",
       " \"The input appears to be a technical document related to the selection of diffusers for a filter. \\n\\nHere's a summary of the key points:\\n\\n- The document discusses the selection of diffusers for a filter with a flow rate of 2100 m³/h and a maximum velocity of 900 m³/h.\\n- The selection of diffusers should be made from a catalog of diffusers.\\n- A table is provided with various diffuser models, their characteristics, and flow rates.\\n- The document also mentions the importance of defining the filter class according to the catalog for the filter model.\",\n",
       " \"The input appears to be a list of specifications for various devices, possibly printers or photocopiers, along with their dimensions. \\n\\nHere's a summary of the input:\\n\\nThe list contains specifications for devices with the following models:\\n- A 244 MFP\\n- B 625 MFP\\n- G 3000 MFC\\n- E 1179 MFP\\n- H 3500 MFC\\n- F 1150 MFP\\n- U 1700 MFC\\n- c 850 MFP\\n- D 970 MFP\\n- J 700 MFP\\n- R 2100 MFP\\n- s 2800 MFP\\n- Other devices with various dimensions (305x305x78, 352x352, 457x457x78, etc.)\\n\\nThe dimensions listed are in the format of length x width x height (in some cases with additional information in parentheses).\",\n",
       " 'Based on the input, it appears to be a list of measurements and codes. Here\\'s a summary:\\n\\n- The list contains a mix of numerical values and codes (e.g., \"Oahwn\", \"Codigo 305\", \"AT\", \"AR-A\", \"VAT-A\").\\n- The numerical values seem to be measurements in centimeters (e.g., 650, 1750, 3000) or possibly dimensions of boxes or containers (e.g., 305 x 610 x 78).\\n- There are multiple sets of measurements with different dimensions, possibly indicating different sizes of boxes or containers.\\n- The codes appear to be labels or identifiers for different items or categories.']"
      ]
     },
     "execution_count": 48,
     "metadata": {},
     "output_type": "execute_result"
    }
   ],
   "source": [
    "table_summaries"
   ]
  }
 ],
 "metadata": {
  "kernelspec": {
   "display_name": ".venv-pipeline-v3",
   "language": "python",
   "name": "python3"
  },
  "language_info": {
   "codemirror_mode": {
    "name": "ipython",
    "version": 3
   },
   "file_extension": ".py",
   "mimetype": "text/x-python",
   "name": "python",
   "nbconvert_exporter": "python",
   "pygments_lexer": "ipython3",
   "version": "3.11.9"
  }
 },
 "nbformat": 4,
 "nbformat_minor": 5
}
